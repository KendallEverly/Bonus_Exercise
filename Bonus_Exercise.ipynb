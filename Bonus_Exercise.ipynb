{
 "cells": [
  {
   "cell_type": "code",
   "execution_count": 26,
   "metadata": {},
   "outputs": [
    {
     "name": "stdout",
     "output_type": "stream",
     "text": [
      "Please enter a saluation: Hello\n",
      "Please enter your name: Kendall\n",
      "Hello Kendall\n"
     ]
    }
   ],
   "source": [
    "value1=str(input(\"Please enter a saluation: \"))\n",
    "value2=str(input(\"Please enter your name: \"))\n",
    "#--------user enters information requested-------\n",
    "print(value1 + \" \" + value2)\n",
    "#values are concatinated"
   ]
  },
  {
   "cell_type": "code",
   "execution_count": 29,
   "metadata": {},
   "outputs": [
    {
     "name": "stdout",
     "output_type": "stream",
     "text": [
      "Enter your username: Kendall\n",
      "Welcome Back\n",
      "Enter your password:Everly\n",
      "Login success!\n"
     ]
    }
   ],
   "source": [
    "d={\"Kendall\":\"Everly\"}\n",
    "#dictionary of username and password\n",
    "username=input(\"Enter your username: \")\n",
    "#user inputs username\n",
    "    \n",
    "while True:\n",
    "    \n",
    "    if username in d.keys():\n",
    "        print(\"Welcome Back\")\n",
    "        password=input(\"Enter your password:\")\n",
    "        #-------if username is correct------\n",
    "        \n",
    "        if password in d.values(): \n",
    "            print(\"Login success!\")\n",
    "            break\n",
    "            #-------if password is correct-------\n",
    "        \n",
    "        else: \n",
    "            print (\"The password is invalid, please try again.\")\n",
    "            break\n",
    "            #-------if password is not correct-------\n",
    "    \n",
    "    else:\n",
    "        print(\"That username does not exist. Please try again.\")\n",
    "        break\n",
    "        #-------if username is not in dictionary-------"
   ]
  },
  {
   "cell_type": "code",
   "execution_count": 32,
   "metadata": {},
   "outputs": [
    {
     "name": "stdout",
     "output_type": "stream",
     "text": [
      "1.35\n",
      "Number of quarters: 5.0\n",
      "0.10\n",
      "Number of dimes: 1.0\n",
      "Number of pennies: 0.0\n"
     ]
    }
   ],
   "source": [
    "input_val = float(input()) #receive input from user\n",
    "quarters = input_val//.25 #get number of quarters\n",
    "print(\"Number of quarters: \" + str(quarters)) #print number of quarters\n",
    "current=input_val-(quarters*.25) #get remaining value\n",
    "current1=\"{:.2f}\".format(current) #round remaing value\n",
    "#-----print(current1)-----\n",
    "dimes = current//.10 #get dimes from remaining amount\n",
    "print(\"Number of dimes: \" + str(dimes)) #print number of dimes\n",
    "current2 =current-(dimes*.10) #get remaining amount with dimes deducted\n",
    "pennies = current2//.01 #get remaining amount with pennies deducted\n",
    "print(\"Number of pennies: \" + str(pennies)) #print number of pennies"
   ]
  },
  {
   "cell_type": "code",
   "execution_count": 31,
   "metadata": {},
   "outputs": [
    {
     "name": "stdout",
     "output_type": "stream",
     "text": [
      "1.41\n",
      "Number of quarters: 5.0\n",
      "Number of dimes: 1.0\n",
      "Number of pennies: 6.0\n"
     ]
    }
   ],
   "source": [
    "input_val = float(input()) #receive input from user\n",
    "quarters = input_val//.25 #get number of quarters\n",
    "print(\"Number of quarters: \" + str(quarters)) #print number of quarters\n",
    "current=input_val-(quarters*.25) #get remaining value\n",
    "current1=\"{:.2f}\".format(current) #round remaing value\n",
    "#-----print(\"Remainder after quarters: \" + str(current1))------\n",
    "dimes = current//.10 #get dimes from remaining amount\n",
    "\n",
    "if dimes<=1:\n",
    "    current2 =current-(dimes*.10) #get remaining amount with dimes deducted\n",
    "    current3=\"{:.2f}\".format(current2) #round value\n",
    "    print(\"Number of dimes: \" + str(dimes)) #print number of dimes\n",
    "    #-----print(\"Remainder after dimes: \" + str(current3))-----\n",
    "    pennies=(current2//.01)+1 #get remaining amount with pennies deducted\n",
    "    current4=\"{:.2f}\".format(current2) #round value\n",
    "    #-----print(\"Remainder after pennies: \" + str(current4))-----\n",
    "    print(\"Number of pennies: \" + str(pennies)) #print number of pennies\n",
    "    \n",
    "else: \n",
    "    current2 =current-(dimes*.10) #get remaining amount with dimes deducted\n",
    "    current3=\"{:.2f}\".format(current2) #round value\n",
    "    newdimes=1.0 #dimes can only be 1\n",
    "    print(\"Number of dimes: \" + str(newdimes)) #print number of dimes with only 1 dime available\n",
    "    #-----print(\"Remainder after dimes: \" + str(current3))-----\n",
    "    pennies=((current2-.1)//.01)+1 #get remaining amount with pennies deducted\n",
    "    current4=\"{:.2f}\".format(current2) #round value\n",
    "    #-----print(\"Remainder after pennies: \" + str(current4))-----\n",
    "    print(\"Number of pennies: \" + str(pennies)) #print number of pennies"
   ]
  },
  {
   "cell_type": "code",
   "execution_count": null,
   "metadata": {},
   "outputs": [],
   "source": []
  }
 ],
 "metadata": {
  "kernelspec": {
   "display_name": "Python 3",
   "language": "python",
   "name": "python3"
  },
  "language_info": {
   "codemirror_mode": {
    "name": "ipython",
    "version": 3
   },
   "file_extension": ".py",
   "mimetype": "text/x-python",
   "name": "python",
   "nbconvert_exporter": "python",
   "pygments_lexer": "ipython3",
   "version": "3.6.11"
  }
 },
 "nbformat": 4,
 "nbformat_minor": 4
}
